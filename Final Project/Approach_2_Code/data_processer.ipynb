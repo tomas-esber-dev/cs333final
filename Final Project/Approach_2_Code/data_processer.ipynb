{
 "cells": [
  {
   "cell_type": "markdown",
   "metadata": {
    "id": "juMBsraWG-b8"
   },
   "source": [
    "**Code for performing named entity recognition on very simple labeled patient health records**"
   ]
  },
  {
   "cell_type": "code",
   "execution_count": 18,
   "metadata": {
    "colab": {
     "base_uri": "https://localhost:8080/"
    },
    "executionInfo": {
     "elapsed": 1077,
     "status": "ok",
     "timestamp": 1700447068085,
     "user": {
      "displayName": "Tomas Esber",
      "userId": "06707006493259991549"
     },
     "user_tz": 300
    },
    "id": "1-zT0KpAHPeH",
    "outputId": "4b682813-d8dd-479b-eaa3-c4a7863f244d"
   },
   "outputs": [],
   "source": [
    "import json\n",
    "import spacy\n",
    "\n",
    "# from google.colab import drive\n",
    "# drive.mount('/content/drive')\n",
    "\n",
    "with open(\"consolidated_chia_outfile.json\", \"r\") as outfile:\n",
    "  data = json.load(outfile)\n",
    "\n",
    "with open(\"data.json\", \"r\") as outfile:\n",
    "  data2 = json.load(outfile)\n"
   ]
  },
  {
   "cell_type": "code",
   "execution_count": 3,
   "metadata": {
    "colab": {
     "base_uri": "https://localhost:8080/"
    },
    "executionInfo": {
     "elapsed": 39622,
     "status": "ok",
     "timestamp": 1700443142351,
     "user": {
      "displayName": "Tomas Esber",
      "userId": "06707006493259991549"
     },
     "user_tz": 300
    },
    "id": "LJzbpHjcsS9L",
    "outputId": "ec5a847e-1d9c-4f80-8298-710fe523943c"
   },
   "outputs": [
    {
     "name": "stdout",
     "output_type": "stream",
     "text": [
      "Collecting en-core-web-lg==3.7.1\n",
      "  Downloading https://github.com/explosion/spacy-models/releases/download/en_core_web_lg-3.7.1/en_core_web_lg-3.7.1-py3-none-any.whl (587.7 MB)\n",
      "\u001b[2K     \u001b[90m━━━━━━━━━━━━━━━━━━━━━━━━━━━━━━━━━━━━━━━\u001b[0m \u001b[32m587.7/587.7 MB\u001b[0m \u001b[31m1.1 MB/s\u001b[0m eta \u001b[36m0:00:00\u001b[0m00:01\u001b[0m00:01\u001b[0m\n",
      "\u001b[?25hRequirement already satisfied: spacy<3.8.0,>=3.7.2 in /Users/vikramsharma/opt/anaconda3/lib/python3.9/site-packages (from en-core-web-lg==3.7.1) (3.7.2)\n",
      "Requirement already satisfied: langcodes<4.0.0,>=3.2.0 in /Users/vikramsharma/opt/anaconda3/lib/python3.9/site-packages (from spacy<3.8.0,>=3.7.2->en-core-web-lg==3.7.1) (3.3.0)\n",
      "Requirement already satisfied: murmurhash<1.1.0,>=0.28.0 in /Users/vikramsharma/opt/anaconda3/lib/python3.9/site-packages (from spacy<3.8.0,>=3.7.2->en-core-web-lg==3.7.1) (1.0.10)\n",
      "Requirement already satisfied: spacy-legacy<3.1.0,>=3.0.11 in /Users/vikramsharma/opt/anaconda3/lib/python3.9/site-packages (from spacy<3.8.0,>=3.7.2->en-core-web-lg==3.7.1) (3.0.12)\n",
      "Requirement already satisfied: cymem<2.1.0,>=2.0.2 in /Users/vikramsharma/opt/anaconda3/lib/python3.9/site-packages (from spacy<3.8.0,>=3.7.2->en-core-web-lg==3.7.1) (2.0.8)\n",
      "Requirement already satisfied: requests<3.0.0,>=2.13.0 in /Users/vikramsharma/opt/anaconda3/lib/python3.9/site-packages (from spacy<3.8.0,>=3.7.2->en-core-web-lg==3.7.1) (2.28.1)\n",
      "Requirement already satisfied: smart-open<7.0.0,>=5.2.1 in /Users/vikramsharma/opt/anaconda3/lib/python3.9/site-packages (from spacy<3.8.0,>=3.7.2->en-core-web-lg==3.7.1) (5.2.1)\n",
      "Requirement already satisfied: numpy>=1.19.0 in /Users/vikramsharma/opt/anaconda3/lib/python3.9/site-packages (from spacy<3.8.0,>=3.7.2->en-core-web-lg==3.7.1) (1.21.5)\n",
      "Requirement already satisfied: preshed<3.1.0,>=3.0.2 in /Users/vikramsharma/opt/anaconda3/lib/python3.9/site-packages (from spacy<3.8.0,>=3.7.2->en-core-web-lg==3.7.1) (3.0.9)\n",
      "Requirement already satisfied: thinc<8.3.0,>=8.1.8 in /Users/vikramsharma/opt/anaconda3/lib/python3.9/site-packages (from spacy<3.8.0,>=3.7.2->en-core-web-lg==3.7.1) (8.2.1)\n",
      "Requirement already satisfied: catalogue<2.1.0,>=2.0.6 in /Users/vikramsharma/opt/anaconda3/lib/python3.9/site-packages (from spacy<3.8.0,>=3.7.2->en-core-web-lg==3.7.1) (2.0.10)\n",
      "Requirement already satisfied: jinja2 in /Users/vikramsharma/opt/anaconda3/lib/python3.9/site-packages (from spacy<3.8.0,>=3.7.2->en-core-web-lg==3.7.1) (2.11.3)\n",
      "Requirement already satisfied: spacy-loggers<2.0.0,>=1.0.0 in /Users/vikramsharma/opt/anaconda3/lib/python3.9/site-packages (from spacy<3.8.0,>=3.7.2->en-core-web-lg==3.7.1) (1.0.5)\n",
      "Requirement already satisfied: weasel<0.4.0,>=0.1.0 in /Users/vikramsharma/opt/anaconda3/lib/python3.9/site-packages (from spacy<3.8.0,>=3.7.2->en-core-web-lg==3.7.1) (0.3.4)\n",
      "Requirement already satisfied: packaging>=20.0 in /Users/vikramsharma/opt/anaconda3/lib/python3.9/site-packages (from spacy<3.8.0,>=3.7.2->en-core-web-lg==3.7.1) (21.3)\n",
      "Requirement already satisfied: tqdm<5.0.0,>=4.38.0 in /Users/vikramsharma/opt/anaconda3/lib/python3.9/site-packages (from spacy<3.8.0,>=3.7.2->en-core-web-lg==3.7.1) (4.64.1)\n",
      "Requirement already satisfied: setuptools in /Users/vikramsharma/opt/anaconda3/lib/python3.9/site-packages (from spacy<3.8.0,>=3.7.2->en-core-web-lg==3.7.1) (63.4.1)\n",
      "Requirement already satisfied: typer<0.10.0,>=0.3.0 in /Users/vikramsharma/opt/anaconda3/lib/python3.9/site-packages (from spacy<3.8.0,>=3.7.2->en-core-web-lg==3.7.1) (0.9.0)\n",
      "Requirement already satisfied: wasabi<1.2.0,>=0.9.1 in /Users/vikramsharma/opt/anaconda3/lib/python3.9/site-packages (from spacy<3.8.0,>=3.7.2->en-core-web-lg==3.7.1) (1.1.2)\n",
      "Requirement already satisfied: pydantic!=1.8,!=1.8.1,<3.0.0,>=1.7.4 in /Users/vikramsharma/opt/anaconda3/lib/python3.9/site-packages (from spacy<3.8.0,>=3.7.2->en-core-web-lg==3.7.1) (2.5.1)\n",
      "Requirement already satisfied: srsly<3.0.0,>=2.4.3 in /Users/vikramsharma/opt/anaconda3/lib/python3.9/site-packages (from spacy<3.8.0,>=3.7.2->en-core-web-lg==3.7.1) (2.4.8)\n",
      "Requirement already satisfied: pyparsing!=3.0.5,>=2.0.2 in /Users/vikramsharma/opt/anaconda3/lib/python3.9/site-packages (from packaging>=20.0->spacy<3.8.0,>=3.7.2->en-core-web-lg==3.7.1) (3.0.9)\n",
      "Requirement already satisfied: typing-extensions>=4.6.1 in /Users/vikramsharma/opt/anaconda3/lib/python3.9/site-packages (from pydantic!=1.8,!=1.8.1,<3.0.0,>=1.7.4->spacy<3.8.0,>=3.7.2->en-core-web-lg==3.7.1) (4.8.0)\n",
      "Requirement already satisfied: pydantic-core==2.14.3 in /Users/vikramsharma/opt/anaconda3/lib/python3.9/site-packages (from pydantic!=1.8,!=1.8.1,<3.0.0,>=1.7.4->spacy<3.8.0,>=3.7.2->en-core-web-lg==3.7.1) (2.14.3)\n",
      "Requirement already satisfied: annotated-types>=0.4.0 in /Users/vikramsharma/opt/anaconda3/lib/python3.9/site-packages (from pydantic!=1.8,!=1.8.1,<3.0.0,>=1.7.4->spacy<3.8.0,>=3.7.2->en-core-web-lg==3.7.1) (0.6.0)\n",
      "Requirement already satisfied: charset-normalizer<3,>=2 in /Users/vikramsharma/opt/anaconda3/lib/python3.9/site-packages (from requests<3.0.0,>=2.13.0->spacy<3.8.0,>=3.7.2->en-core-web-lg==3.7.1) (2.0.4)\n",
      "Requirement already satisfied: certifi>=2017.4.17 in /Users/vikramsharma/opt/anaconda3/lib/python3.9/site-packages (from requests<3.0.0,>=2.13.0->spacy<3.8.0,>=3.7.2->en-core-web-lg==3.7.1) (2022.9.24)\n",
      "Requirement already satisfied: idna<4,>=2.5 in /Users/vikramsharma/opt/anaconda3/lib/python3.9/site-packages (from requests<3.0.0,>=2.13.0->spacy<3.8.0,>=3.7.2->en-core-web-lg==3.7.1) (3.3)\n",
      "Requirement already satisfied: urllib3<1.27,>=1.21.1 in /Users/vikramsharma/opt/anaconda3/lib/python3.9/site-packages (from requests<3.0.0,>=2.13.0->spacy<3.8.0,>=3.7.2->en-core-web-lg==3.7.1) (1.26.11)\n",
      "Requirement already satisfied: confection<1.0.0,>=0.0.1 in /Users/vikramsharma/opt/anaconda3/lib/python3.9/site-packages (from thinc<8.3.0,>=8.1.8->spacy<3.8.0,>=3.7.2->en-core-web-lg==3.7.1) (0.1.3)\n",
      "Requirement already satisfied: blis<0.8.0,>=0.7.8 in /Users/vikramsharma/opt/anaconda3/lib/python3.9/site-packages (from thinc<8.3.0,>=8.1.8->spacy<3.8.0,>=3.7.2->en-core-web-lg==3.7.1) (0.7.11)\n",
      "Requirement already satisfied: click<9.0.0,>=7.1.1 in /Users/vikramsharma/opt/anaconda3/lib/python3.9/site-packages (from typer<0.10.0,>=0.3.0->spacy<3.8.0,>=3.7.2->en-core-web-lg==3.7.1) (8.0.4)\n",
      "Requirement already satisfied: cloudpathlib<0.17.0,>=0.7.0 in /Users/vikramsharma/opt/anaconda3/lib/python3.9/site-packages (from weasel<0.4.0,>=0.1.0->spacy<3.8.0,>=3.7.2->en-core-web-lg==3.7.1) (0.16.0)\n",
      "Requirement already satisfied: MarkupSafe>=0.23 in /Users/vikramsharma/opt/anaconda3/lib/python3.9/site-packages (from jinja2->spacy<3.8.0,>=3.7.2->en-core-web-lg==3.7.1) (2.0.1)\n",
      "\u001b[38;5;2m✔ Download and installation successful\u001b[0m\n",
      "You can now load the package via spacy.load('en_core_web_lg')\n"
     ]
    }
   ],
   "source": [
    "!python -m spacy download en_core_web_lg"
   ]
  },
  {
   "cell_type": "code",
   "execution_count": 27,
   "metadata": {
    "colab": {
     "base_uri": "https://localhost:8080/",
     "height": 35
    },
    "executionInfo": {
     "elapsed": 10,
     "status": "ok",
     "timestamp": 1700443182443,
     "user": {
      "displayName": "Tomas Esber",
      "userId": "06707006493259991549"
     },
     "user_tz": 300
    },
    "id": "enwnprhQtFmu",
    "outputId": "1fe69529-605d-4ff2-82c5-da78d45669e3"
   },
   "outputs": [
    {
     "data": {
      "text/plain": [
       "'Procedure 10 24--*--pathologically'"
      ]
     },
     "execution_count": 27,
     "metadata": {},
     "output_type": "execute_result"
    }
   ],
   "source": [
    "data[\"NCT00894712_inc\"][\"Annotations\"][0]"
   ]
  },
  {
   "cell_type": "code",
   "execution_count": 28,
   "metadata": {
    "colab": {
     "base_uri": "https://localhost:8080/",
     "height": 154
    },
    "executionInfo": {
     "elapsed": 141,
     "status": "ok",
     "timestamp": 1700443197976,
     "user": {
      "displayName": "Tomas Esber",
      "userId": "06707006493259991549"
     },
     "user_tz": 300
    },
    "id": "B5DOx2KWxhst",
    "outputId": "cc84a478-f0fc-458e-fe35-a0ec6e550348"
   },
   "outputs": [
    {
     "data": {
      "text/plain": [
       "'Must have pathologically confirmed invasive adenocarcinoma or ductal carcinoma in situ of the breast. . Patients must have undergone segmental mastectomy (i.e., lumpectomy). . Patients must not have received prior radiation therapy to the breast. . Patients must not have active local-regional disease prior to registration. . Patients must not be pregnant because of the potential for fetal harm as a result of radiation treatment. Women of child-bearing age will be given a serum pregnancy test prior to study entry to ensure they are not pregnant. They will also be counseled on the importance of avoiding pregnancy and hormonal contraception while undergoing radiation therapy. . Patients must not have a serious medical or psychiatric illness which prevents informed consent or compliance with treatment. . All patients must be informed of the investigational nature of this study and give written informed consent in accordance with institutional and federal guidelines. . '"
      ]
     },
     "execution_count": 28,
     "metadata": {},
     "output_type": "execute_result"
    }
   ],
   "source": [
    "data[\"NCT00894712_inc\"][\"Text\"]"
   ]
  },
  {
   "cell_type": "code",
   "execution_count": 19,
   "metadata": {},
   "outputs": [],
   "source": [
    "def is_valid_text(text):\n",
    "    # Check if the text is non-empty and non-null\n",
    "    return text is not None and text.strip() != ''\n",
    "\n",
    "def is_valid_annotation(annotation):\n",
    "    # Check if the annotation follows the format \"Label Start End--*--Text\"\n",
    "    parts = annotation.split('--*--')\n",
    "    if len(parts) != 2:\n",
    "        return False\n",
    "    label_info, text = parts\n",
    "    label_parts = label_info.split(' ')\n",
    "    if len(label_parts) != 3:\n",
    "        return False\n",
    "    _, start, end = label_parts\n",
    "    return start.isdigit() and end.isdigit() and text.strip() != ''\n",
    "\n",
    "def clean_json(data):\n",
    "    cleaned_data = {}\n",
    "    for key, value in data.items():\n",
    "        if 'Text' in value and is_valid_text(value['Text']):\n",
    "            # Validate annotations\n",
    "            valid_annotations = [ann for ann in value.get('Annotations', []) if is_valid_annotation(ann)]\n",
    "            cleaned_data[key] = {\n",
    "                'Text': value['Text'],\n",
    "                'Annotations': valid_annotations\n",
    "            }\n",
    "    return cleaned_data\n",
    "\n",
    "data1 = clean_json(data)"
   ]
  },
  {
   "cell_type": "code",
   "execution_count": 20,
   "metadata": {
    "executionInfo": {
     "elapsed": 4561,
     "status": "ok",
     "timestamp": 1700443211481,
     "user": {
      "displayName": "Tomas Esber",
      "userId": "06707006493259991549"
     },
     "user_tz": 300
    },
    "id": "LcH_gi14y0Qr"
   },
   "outputs": [],
   "source": [
    "from spacy.tokens import DocBin\n",
    "\n",
    "# nlp = spacy.blank(\"en\")\n",
    "\n",
    "nlp = spacy.load(\"en_core_web_lg\")\n",
    "\n",
    "doc_bin = DocBin()"
   ]
  },
  {
   "cell_type": "code",
   "execution_count": 23,
   "metadata": {
    "colab": {
     "base_uri": "https://localhost:8080/"
    },
    "executionInfo": {
     "elapsed": 25018,
     "status": "ok",
     "timestamp": 1700447212258,
     "user": {
      "displayName": "Tomas Esber",
      "userId": "06707006493259991549"
     },
     "user_tz": 300
    },
    "id": "3hkxJKNtUE61",
    "outputId": "b8e0d557-357c-41db-e4be-1a68d16dcc86"
   },
   "outputs": [
    {
     "name": "stdout",
     "output_type": "stream",
     "text": [
      "[{'Text': 'Must have pathologically confirmed invasive adenocarcinoma or ductal carcinoma in situ of the breast. . Patients must have undergone segmental mastectomy (i.e., lumpectomy). . Patients must not have received prior radiation therapy to the breast. . Patients must not have active local-regional disease prior to registration. . Patients must not be pregnant because of the potential for fetal harm as a result of radiation treatment. Women of child-bearing age will be given a serum pregnancy test prior to study entry to ensure they are not pregnant. They will also be counseled on the importance of avoiding pregnancy and hormonal contraception while undergoing radiation therapy. . Patients must not have a serious medical or psychiatric illness which prevents informed consent or compliance with treatment. . All patients must be informed of the investigational nature of this study and give written informed consent in accordance with institutional and federal guidelines. . ', 'Annotations': ['Procedure 10 24--*--pathologically', 'Value 25 34--*--confirmed', 'Condition 35 58--*--invasive adenocarcinoma', 'Condition 62 86--*--ductal carcinoma in situ', 'Procedure 132 152--*--segmental mastectomy', 'Procedure 160 170--*--lumpectomy', 'Procedure 212 229--*--radiation therapy', 'Negation 188 191--*--not', 'Qualifier 87 100--*--of the breast', 'Condition 276 298--*--local-regional disease', 'Undefined_semantics 276 298--*--local-regional disease', 'Temporal 269 275--*--active', 'Negation 260 263--*--not', 'Pregnancy_considerations 323 677--*--Patients must not be pregnant because of the potential for fetal harm as a result of radiation treatment. Women of child-bearing age will be given a serum pregnancy test prior to study entry to ensure they are not pregnant. They will also be counseled on the importance of avoiding pregnancy and hormonal contraception while undergoing radiation therapy.', 'Post-eligibility 679 804--*--Patients must not have a serious medical or psychiatric illness which prevents informed consent or compliance with treatment.', 'Post-eligibility 806 970--*--All patients must be informed of the investigational nature of this study and give written informed consent in accordance with institutional and federal guidelines.']}, {'Text': 'Male or female between, and including, 6-12 weeks (42 to 90 days) of age at the time of the first vaccination. . Subjects for whom the investigator believes that their parents/guardians can and will comply with the requirements of the protocol . Written informed consent obtained from the parent or guardian of the subject. . Free of obvious health problems as established by medical history and clinical examination before entering into the study. . Born after a gestation period between 36 and 42 weeks. . ', 'Annotations': ['Person 66 72--*--of age', 'Temporal 73 109--*--at the time of the first vaccination', 'Condition 339 354--*--health problems', 'Qualifier 331 338--*--obvious', 'Negation 323 327--*--Free', 'Value 477 500--*--between 36 and 42 weeks', 'Measurement 460 476--*--gestation period', 'Condition 447 451--*--Born', 'Non-query-able 112 242--*--Subjects for whom the investigator believes that their parents/guardians can and will comply with the requirements of the protocol', 'Observation 244 268--*--Written informed consent', 'Qualifier 287 293--*--parent', 'Qualifier 297 305--*--guardian', 'Scope 287 305--*--parent or guardian']}, {'Text': 'Subjects with evidence of liver cirrhosis . Evidence of HCC . Co-infection with hepatitis B virus, HIV       .     . ', 'Annotations': ['Condition 26 41--*--liver cirrhosis', 'Mood 14 22--*--evidence', 'Condition 55 58--*--HCC', 'Mood 43 51--*--Evidence', 'Condition 78 95--*--hepatitis B virus', 'Condition 97 100--*--HIV']}, {'Text': 'Pulseless extremity. Compromised neurologic status on exam (specifically assessment of radial, ulnar, and median nerve). Known allergy to local anesthetics (7) Not scheduled for closed reduction with percutaneous pinning under general anesthesia. Bleeding diathesis. American Society of Anesthesiologist (ASA) status 4 or higher.. Sleep apnea by polysomnography. ', 'Annotations': ['Condition 0 19--*--Pulseless extremity', 'Condition 21 50--*--Compromised neurologic status', 'Qualifier 106 118--*--median nerve', 'Scope 87 118--*--radial, ulnar, and median nerve', 'Condition 127 134--*--allergy', 'Drug 138 155--*--local anesthetics', 'Negation 160 163--*--Not', 'Mood 164 177--*--scheduled for', 'Procedure 178 220--*--closed reduction with percutaneous pinning', 'Procedure 227 245--*--general anesthesia', 'Condition 247 265--*--Bleeding diathesis', 'Measurement 267 316--*--American Society of Anesthesiologist (ASA) status', 'Value 317 328--*--4 or higher', 'Condition 331 342--*--Sleep apnea', 'Procedure 346 361--*--polysomnography']}, {'Text': 'primigravida, singleton pregnancy, maternal age 18-35 years, and pregnancy duration 16-20 weeks at the time of study inclusion.. ', 'Annotations': ['Condition 0 12--*--primigravida', 'Condition 14 33--*--singleton pregnancy', 'Person 35 47--*--maternal age', 'Value 48 59--*--18-35 years', 'Measurement 65 83--*--pregnancy duration', 'Value 84 95--*--16-20 weeks', 'Temporal 96 126--*--at the time of study inclusion']}, {'Text': 'T1DM for at least 12 months. persistent HbA1c levels = 7.5% (58 mmol/mol) despite optimized education therapy,. recurrent severe hypoglycemic episodes or high glucose variability. willingness to wear the insulin pump. ', 'Annotations': ['Condition 0 4--*--T1DM', 'Temporal 5 27--*--for at least 12 months', 'Measurement 40 52--*--HbA1c levels', 'Multiplier 29 39--*--persistent', 'Value 53 59--*--= 7.5%', 'Value 61 72--*--58 mmol/mol', 'Procedure 82 109--*--optimized education therapy', 'Multiplier 112 121--*--recurrent', 'Qualifier 122 128--*--severe', 'Condition 129 150--*--hypoglycemic episodes', 'Condition 154 178--*--high glucose variability', 'Scope 129 178--*--hypoglycemic episodes or high glucose variability', 'Mood 180 191--*--willingness', 'Procedure 195 216--*--wear the insulin pump', 'Device 204 216--*--insulin pump']}, {'Text': 'History of recurrent UTI (defined as three culture proven UTIs within last 12 months). Systemic neuromuscular disease known to affect the lower urinary tract. Undergoing concomitant prolapse surgery. Previous incontinence surgery. Treatment with anticholinergic medication in the last 2 months. Previous bladder injection with onabotulinumtoxinA. Prisoner Status. Pregnancy. ', 'Annotations': ['Condition 11 24--*--recurrent UTI', 'Multiplier 37 42--*--three', 'Measurement 43 50--*--culture', 'Temporal 63 84--*--within last 12 months', 'Condition 96 117--*--neuromuscular disease', 'Procedure 182 198--*--prolapse surgery', 'Procedure 209 229--*--incontinence surgery', 'Drug 246 272--*--anticholinergic medication', 'Temporal 280 292--*--last 2 month', 'Qualifier 304 321--*--bladder injection', 'Drug 327 345--*--onabotulinumtoxinA', 'Person 347 355--*--Prisoner', 'Condition 364 373--*--Pregnancy']}, {'Text': 'Term singleton infants (>37 weeks gestational age). Birth weight > 2500g. Healthy at inclusion. Breastfed exclusively or predominantly (>50% meals) at inclusion. No previous iron supplementation. No previous blood transfusion. Informed consent given. ', 'Annotations': ['Condition 5 22--*--singleton infants', 'Value 24 33--*-->37 weeks', 'Measurement 34 49--*--gestational age', 'Scope 0 22--*--Term singleton infants', 'Scope 24 49--*-->37 weeks gestational age', 'Measurement 52 64--*--Birth weight', 'Value 65 72--*--> 2500g', 'Condition 74 81--*--Healthy', 'Temporal 82 94--*--at inclusion', 'Condition 96 105--*--Breastfed', 'Qualifier 106 117--*--exclusively', 'Qualifier 121 134--*--predominantly', 'Multiplier 136 146--*-->50% meals', 'Temporal 148 160--*--at inclusion', 'Scope 106 134--*--exclusively or predominantly', 'Negation 162 164--*--No', 'Temporal 165 173--*--previous', 'Procedure 174 194--*--iron supplementation', 'Negation 196 198--*--No', 'Temporal 199 207--*--previous', 'Procedure 208 225--*--blood transfusion', 'Informed_consent 227 249--*--Informed consent given']}, {'Text': '1. Age: 12 to 36 months of age (The diagnosis of CP is often uncertain under the age of 12 months. The cutoff at 36 months is to have a population of young children when the brain is most \"plastic\" and most susceptible to reorganization). . 2. Diagnosis: Diagnosis of spastic CP confirmed by a pediatric neurologist or pediatric rehabilitation specialist. . 3. Etiology: The insult to the central nervous system that caused the motor dysfunction must have occurred during gestation or within one year after birth independent of gestational age. . 4. Disease severity level: Gross Motor Function Classification System (GMFCS) levels I, II and III. . ', 'Annotations': ['Parsing_Error 0 2--*--1.', 'Parsing_Error 240 242--*--2.', 'Parsing_Error 356 358--*--3.', 'Parsing_Error 544 546--*--4.', 'Person 3 6--*--Age', 'Value 8 30--*--12 to 36 months of age', 'Not_a_criteria 31 237--*--(The diagnosis of CP is often uncertain under the age of 12 months. The cutoff at 36 months is to have a population of young children when the brain is most \"plastic\" and most susceptible to reorganization)', 'Condition 267 277--*--spastic CP', 'Non-query-able 359 542--*--Etiology: The insult to the central nervous system that caused the motor dysfunction must have occurred during gestation or within one year after birth independent of gestational age.', 'Temporal 490 510--*--one year after birth', 'Measurement 571 621--*--Gross Motor Function Classification System (GMFCS)', 'Value 622 642--*--levels I, II and III']}, {'Text': 'Stage 3 - 5 Chronic Kidney Disease. ', 'Annotations': ['Condition 12 34--*--Chronic Kidney Disease', 'Measurement 0 5--*--Stage', 'Value 6 11--*--3 - 5']}, {'Text': 'Unilateral leg pain secondary to lateral stenosis, disc protrusion or herniated disc.. Age between 18 and 80 years.. Moderate to severe pain (NVS>4).. Right proficient oral and written language.. ', 'Annotations': ['Condition 0 19--*--Unilateral leg pain', 'Condition 33 49--*--lateral stenosis', 'Condition 51 66--*--disc protrusion', 'Condition 70 84--*--herniated disc', 'Scope 33 84--*--lateral stenosis, disc protrusion or herniated disc', 'Person 87 90--*--Age', 'Value 91 114--*--between 18 and 80 years', 'Condition 136 140--*--pain', 'Measurement 142 145--*--NVS', 'Value 145 148--*-->4)', 'Qualifier 129 135--*--severe', 'Qualifier 117 125--*--Moderate', 'Scope 117 135--*--Moderate to severe', 'Post-eligibility 151 193--*--Right proficient oral and written language']}, {'Text': 'All adult patients with chronic myeloid leukaemia in any phase (chronic, accelerated or blastic) who undergo allogeneic stem cell transplantation between 01/01/2010 and 30/09/2013 and have been previously treated with Nilotinib or Dasatinib, regardless of their response to these drugs. . ', 'Annotations': ['Condition 24 49--*--chronic myeloid leukaemia', 'Procedure 109 145--*--allogeneic stem cell transplantation', 'Temporal 146 179--*--between 01/01/2010 and 30/09/2013', 'Drug 218 227--*--Nilotinib', 'Drug 231 240--*--Dasatinib', 'Temporal 194 204--*--previously', 'Scope 218 240--*--Nilotinib or Dasatinib', 'Qualifier 64 71--*--chronic', 'Qualifier 73 84--*--accelerated', 'Qualifier 88 95--*--blastic', 'Qualifier 53 62--*--any phase', 'Scope 64 95--*--chronic, accelerated or blastic', 'Person 4 9--*--adult']}, {'Text': 'Patient age >= 18 years. Zubrod performance status of 0-3. T1-3 N0 M0 adenocarcinoma of the prostate. Prostate volume = 100 cc. Signed study-specific consent form. Extension of local tumor to involve adjacent organs other than seminal vesicles (T4). Prostate volume > 100 cc. Nodal involvement. Metastatic disease. Prior pelvic radiotherapy except as part of combination therapy for prostate cancer. History of scleroderma. Patients with psychiatric or addictive disorder that would preclude obtaining informed consent. ', 'Annotations': ['Person 0 11--*--Patient age', 'Value 12 23--*-->= 18 years', 'Measurement 25 50--*--Zubrod performance status', 'Value 54 57--*--0-3', 'Measurement 59 60--*--T', 'Value 60 63--*--1-3', 'Measurement 64 65--*--N', 'Measurement 67 68--*--M', 'Value 65 66--*--0', 'Value 68 69--*--0', 'Scope 59 69--*--T1-3 N0 M0', 'Condition 70 84--*--adenocarcinoma', 'Qualifier 92 100--*--prostate', 'Measurement 102 117--*--Prostate volume', 'Value 118 126--*--= 100 cc', 'Informed_consent 128 162--*--Signed study-specific consent form', 'Condition 164 188--*--Extension of local tumor', 'Qualifier 200 215--*--adjacent organs', 'Negation 216 226--*--other than', 'Qualifier 227 243--*--seminal vesicles', 'Scope 200 243--*--adjacent organs other than seminal vesicles', 'Measurement 250 265--*--Prostate volume', 'Value 266 274--*--> 100 cc', 'Condition 276 293--*--Nodal involvement', 'Condition 295 313--*--Metastatic disease', 'Temporal 315 320--*--Prior', 'Qualifier 321 327--*--pelvic', 'Procedure 328 340--*--radiotherapy', 'Negation 341 347--*--except', 'Procedure 359 378--*--combination therapy', 'Condition 383 399--*--prostate cancer', 'Condition 383 398--*--prostate cancer', 'Observation 400 407--*--History', 'Condition 411 422--*--scleroderma', 'Condition 453 471--*--addictive disorder']}, {'Text': 'Use of any investigational or non-registered product (drug or vaccine) other than the study vaccine(s) within 30 days preceding the first dose of study vaccine, or planned use during the study period . Chronic administration (defined as more than 14 days) of immunosuppressants or other immune-modifying drugs within six months prior to the first vaccine dose. . Planned administration/ administration of a vaccine not foreseen by the study protocol during the period starting one month before each dose of vaccine(s) and ending 7 days after dose 1 and dose 2 or 1 month after dose 3. . Previous vaccination against diphtheria, tetanus, pertussis, polio, hepatitis B, Haemophilus influenzae type b, and/or S. pneumoniae with the exception of vaccines where the first dose can be given within the first two weeks of life according to the national recommendations . History of or intercurrent diphtheria, tetanus, pertussis, hepatitis B, polio, and Haemophilus influenzae type b diseases. . History of allergic disease or reactions likely to be exacerbated by any component of the vaccines. . History of seizures (this criterion does not apply to subjects who have had a single, uncomplicated febrile convulsion in the past) or neurological disease. . Acute disease at the time of enrolment . Any confirmed or suspected immunosuppressive or immunodeficient condition based on medical history and physical . A family history of congenital or hereditary immunodeficiency. . Major congenital defects or serious chronic illness. . Administration of immunoglobulins and/or any blood products since birth or planned administration during the active phase of the study.       .     . ', 'Annotations': ['Drug 54 58--*--drug', 'Drug 62 69--*--vaccine', 'Scope 54 69--*--drug or vaccine', 'Temporal 103 117--*--within 30 days', 'Observation 164 175--*--planned use', 'Temporal 176 199--*--during the study period', 'Drug 258 276--*--immunosuppressants', 'Drug 280 308--*--other immune-modifying drugs', 'Temporal 309 326--*--within six months', 'Temporal 201 208--*--Chronic', 'Temporal 236 253--*--more than 14 days', 'Scope 258 308--*--immunosuppressants or other immune-modifying drugs', 'Observation 361 368--*--Planned', 'Drug 405 412--*--vaccine', 'Qualifier 413 447--*--not foreseen by the study protocol', 'Temporal 459 515--*--period starting one month before each dose of vaccine(s)', 'Temporal 561 581--*--1 month after dose 3', 'Temporal 520 557--*--ending 7 days after dose 1 and dose 2', 'Drug 540 546--*--dose 1', 'Drug 551 557--*--dose 2', 'Drug 575 581--*--dose 3', 'Scope 540 557--*--dose 1 and dose 2', 'Scope 459 581--*--period starting one month before each dose of vaccine(s) and ending 7 days after dose 1 and dose 2 or 1 month after dose 3', 'Drug 593 604--*--vaccination', 'Condition 613 623--*--diphtheria', 'Condition 625 632--*--tetanus', 'Condition 634 643--*--pertussis', 'Condition 645 650--*--polio', 'Condition 652 663--*--hepatitis B', 'Condition 665 694--*--Haemophilus influenzae type b', 'Condition 703 716--*--S. pneumoniae', 'Temporal 782 816--*--within the first two weeks of life', 'Qualifier 758 781--*--first dose can be given', 'Scope 613 716--*--diphtheria, tetanus, pertussis, polio, hepatitis B, Haemophilus influenzae type b, and/or S. pneumoniae', 'Scope 593 716--*--vaccination against diphtheria, tetanus, pertussis, polio, hepatitis B, Haemophilus influenzae type b, and/or S. pneumoniae', 'Drug 739 747--*--vaccines', 'Observation 860 867--*--History', 'Condition 887 897--*--diphtheria', 'Condition 899 906--*--tetanus', 'Condition 908 917--*--pertussis', 'Condition 919 930--*--hepatitis B', 'Condition 932 937--*--polio', 'Condition 943 972--*--Haemophilus influenzae type b', 'Scope 887 972--*--diphtheria, tetanus, pertussis, hepatitis B, polio, and Haemophilus influenzae type b', 'Condition 995 1011--*--allergic disease', 'Observation 984 991--*--History', 'Scope 995 1024--*--allergic disease or reactions', 'Qualifier 1038 1049--*--exacerbated', 'Condition 1096 1104--*--seizures', 'Observation 1085 1092--*--History', 'Condition 1185 1203--*--febrile convulsion', 'Qualifier 1171 1184--*--uncomplicated', 'Multiplier 1163 1169--*--single', 'Condition 1220 1240--*--neurological disease', 'Condition 1243 1256--*--Acute disease', 'Temporal 1257 1281--*--at the time of enrolment', 'Condition 1331 1356--*--immunodeficient condition', 'Observation 1398 1412--*--family history', 'Condition 1430 1457--*--hereditary immunodeficiency', 'Scope 1416 1457--*--congenital or hereditary immunodeficiency', 'Condition 1460 1484--*--Major congenital defects', 'Condition 1488 1511--*--serious chronic illness', 'Drug 1532 1547--*--immunoglobulins', 'Drug 1555 1573--*--any blood products', 'Temporal 1574 1585--*--since birth', 'Scope 1532 1573--*--immunoglobulins and/or any blood products', 'Observation 1589 1596--*--planned', 'Temporal 1612 1648--*--during the active phase of the study', 'Scope 1574 1648--*--since birth or planned administration during the active phase of the study', 'Negation 717 738--*--with the exception of', 'Reference_point 789 816--*--the first two weeks of life', 'Negation 1121 1135--*--does not apply', 'Scope 1096 1240--*--seizures (this criterion does not apply to subjects who have had a single, uncomplicated febrile convulsion in the past) or neurological disease', 'Reference_point 1272 1281--*--enrolment', 'Reference_point 1623 1648--*--active phase of the study', 'Reference_point 1580 1585--*--birth', 'Reference_point 492 515--*--each dose of vaccine(s)', 'Reference_point 540 557--*--dose 1 and dose 2', 'Reference_point 575 581--*--dose 3']}, {'Text': 'Visible skin pathology, excessive freckles, or skin blemishes in the test area. . History of skin disease or hypersensitivity and repeated contact allergies. . Sarcoma or squamous cell histology. . Metastatic disease to the breast. . Current tobacco use.       .     . ', 'Annotations': ['Condition 8 22--*--skin pathology', 'Condition 34 42--*--freckles', 'Qualifier 24 33--*--excessive', 'Condition 47 61--*--skin blemishes', 'Condition 92 104--*--skin disease', 'Condition 108 124--*--hypersensitivity', 'Condition 138 155--*--contact allergies', 'Condition 158 165--*--Sarcoma', 'Condition 169 182--*--squamous cell', 'Procedure 183 192--*--histology', 'Scope 158 182--*--Sarcoma or squamous cell', 'Condition 195 213--*--Metastatic disease', 'Qualifier 214 227--*--to the breast', 'Observation 238 249--*--tobacco use', 'Temporal 230 237--*--Current']}, {'Text': 'Undergoing mid-urethral sling surgery. Have symptoms of both stress and urgency urinary incontinence. Able to consent, fill out study documents, and complete all study procedures and follow-up visits. At least 18 years of age. English speaking. Be able and willing to learn clean intermittent self catheterization technique. ', 'Annotations': ['Procedure 11 37--*--mid-urethral sling surgery', 'Condition 72 100--*--urgency urinary incontinence', 'Post-eligibility 102 199--*--Able to consent, fill out study documents, and complete all study procedures and follow-up visits', 'Person 222 225--*--age', 'Value 201 218--*--At least 18 years', 'Non-query-able 227 243--*--English speaking', 'Non-query-able 245 323--*--Be able and willing to learn clean intermittent self catheterization technique']}, {'Text': 'previous use of insulin pump. pregnancy or planning to become pregnant in the next 2 years,. lack of ability to use the study devices. history of severe chronic diseases. recent or concomitant use of corticosteroids. drug or alcohol abuse. psychiatric complaints that interfere with the correct use of the devices. ', 'Annotations': ['Device 16 28--*--insulin pump', 'Condition 30 39--*--pregnancy', 'Mood 43 61--*--planning to become', 'Condition 62 70--*--pregnant', 'Temporal 71 90--*--in the next 2 years', 'Negation 93 100--*--lack of', 'Observation 101 133--*--ability to use the study devices', 'Device 120 133--*--study devices', 'Qualifier 146 152--*--severe', 'Condition 153 169--*--chronic diseases', 'Observation 135 142--*--history', 'Temporal 171 177--*--recent', 'Temporal 181 192--*--concomitant', 'Drug 200 215--*--corticosteroids', 'Scope 171 192--*--recent or concomitant', 'Drug 225 238--*--alcohol abuse', 'Condition 240 262--*--psychiatric complaints', 'Observation 287 313--*--correct use of the devices', 'Mood 268 282--*--interfere with']}, {'Text': '1. Diagnosis: Diagnosis of CP secondary to neuronal migration. . 2. Co-morbidities: Medical conditions that may prevent the administration of rehabilitation therapies at the intensity required by the study, or that may compromise the study ability to maintain blindness, or that have a co-morbidity not typically associated with CP (i.e. cancer, cystic fibrosis). . 3. Co-interventions: Anticipated pharmacological intervention or procedure or participation in other studies that may interfere with this study.       .     . ', 'Annotations': ['Parsing_Error 0 2--*--1.', 'Parsing_Error 64 66--*--2.', 'Parsing_Error 364 366--*--3.', 'Condition 27 61--*--CP secondary to neuronal migration', 'Undefined_semantics 67 361--*--Co-morbidities: Medical conditions that may prevent the administration of rehabilitation therapies at the intensity required by the study, or that may compromise the study ability to maintain blindness, or that have a co-morbidity not typically associated with CP (i.e. cancer, cystic fibrosis)', 'Post-eligibility 367 508--*--Co-interventions: Anticipated pharmacological intervention or procedure or participation in other studies that may interfere with this study.', 'Undefined_semantics 367 508--*--Co-interventions: Anticipated pharmacological intervention or procedure or participation in other studies that may interfere with this study.']}, {'Text': 'preterm delivery (<37 weeks of gestation). birth weight < 2500 g. multiple pregnancy. major illness or congenital anomaly. being <50% breastfed at the time of inclusion. food allergy. anaemia (Hb <105 g/L [10.5 g/dL]) at inclusion, lack of informed consent. ', 'Annotations': ['Condition 0 16--*--preterm delivery', 'Value 18 27--*--<37 weeks', 'Measurement 31 40--*--gestation', 'Scope 18 40--*--<37 weeks of gestation', 'Measurement 43 55--*--birth weight', 'Value 56 64--*--< 2500 g', 'Condition 66 84--*--multiple pregnancy', 'Condition 86 99--*--major illness', 'Condition 103 121--*--congenital anomaly', 'Multiplier 129 133--*--<50%', 'Observation 134 143--*--breastfed', 'Temporal 144 168--*--at the time of inclusion', 'Condition 170 182--*--food allergy', 'Condition 184 191--*--anaemia', 'Measurement 193 195--*--Hb', 'Value 196 204--*--<105 g/L', 'Value 206 215--*--10.5 g/dL', 'Scope 193 216--*--Hb <105 g/L [10.5 g/dL]', 'Temporal 218 230--*--at inclusion', 'Informed_consent 232 256--*--lack of informed consent']}, {'Text': 'Subjects chronically infected with HCV Genotype 1 . HCV RNA viral load of ≥ 10*5* IU/mL (100,000 IU/mL) at screening . ', 'Annotations': ['Condition 35 38--*--HCV', 'Qualifier 39 49--*--Genotype 1', 'Temporal 9 20--*--chronically', 'Multiplier 9 20--*--chronically', 'Measurement 51 69--*--HCV RNA viral load', 'Value 73 86--*--≥ 10*5* IU/mL', 'Value 88 101--*--100,000 IU/mL', 'Temporal 103 115--*--at screening', 'Reference_point 106 115--*--screening']}, {'Text': 'Women with multi-fetal pregnancy, diabetes mellitus, chronic hypertension, or chronic renal disease. ', 'Annotations': ['Person 0 5--*--Women', 'Condition 11 32--*--multi-fetal pregnancy', 'Condition 34 51--*--diabetes mellitus', 'Condition 53 73--*--chronic hypertension', 'Condition 78 99--*--chronic renal disease']}, {'Text': 'Supracondylar fracture. Age 2-17 years. American Society of Anesthesiologists Status 1 -3. Scheduled for closed reduction with percutaneous pinning under general anesthesia. ', 'Annotations': ['Condition 0 22--*--Supracondylar fracture', 'Person 24 27--*--Age', 'Value 28 38--*--2-17 years', 'Measurement 40 84--*--American Society of Anesthesiologists Status', 'Value 85 89--*--1 -3', 'Procedure 105 147--*--closed reduction with percutaneous pinning', 'Procedure 154 172--*--general anesthesia', 'Mood 91 104--*--Scheduled for']}, {'Text': 'History of cardiovascular disease;. Current pregnancy;. Uncontrolled hypertension;. Uncontrolled hyperlipidemia;. Current hormone replacement therapy;. Current use of tobacco products;. Elevated liver enzymes;. Current autoimmune disease;. Daily use of of antioxidants >300mg. ', 'Annotations': ['Condition 11 33--*--cardiovascular disease', 'Observation 0 7--*--History', 'Temporal 36 43--*--Current', 'Condition 44 53--*--pregnancy', 'Condition 69 81--*--hypertension', 'Qualifier 56 68--*--Uncontrolled', 'Qualifier 84 96--*--Uncontrolled', 'Condition 97 111--*--hyperlipidemia', 'Procedure 122 149--*--hormone replacement therapy', 'Temporal 114 121--*--Current', 'Observation 160 183--*--use of tobacco products', 'Temporal 152 159--*--Current', 'Condition 186 208--*--Elevated liver enzymes', 'Condition 219 237--*--autoimmune disease', 'Temporal 211 218--*--Current', 'Multiplier 240 249--*--Daily use', 'Drug 256 268--*--antioxidants', 'Multiplier 269 275--*-->300mg']}, {'Text': 'Patients with high intracranial pressure.. Patients with Multiple Sclerosis.. Patients with Guillain-Barré syndrome radiculopathy of vascular origin.. Patients with previous lumbar surgery.. Patients pregnant or lactating.. Patients with allergy or intolerance to any of the drugs used.. Patients with severe cognitive impairment.. Patients with intrathecal injectio radiculalgia.. Patients with poorly controlled major psychiatric pathology.. Patients with type I diabetes or poorly controlled type II diabetes (Hb1Ac>8.5).. Patients with glaucoma.. Patients with caudal equine syndrome.. Patients with pre-treatment with steroid injections/or local anesthetics.. Patients with central canal stenosis.. patients with chronic treatment with oral corticosteroids without stabilized pattern.. ', 'Annotations': ['Measurement 19 40--*--intracranial pressure', 'Value 14 18--*--high', 'Condition 57 75--*--Multiple Sclerosis', 'Condition 92 129--*--Guillain-Barré syndrome radiculopathy', 'Qualifier 133 141--*--vascular', 'Procedure 174 189--*--lumbar surgery.', 'Pregnancy_considerations 191 221--*--Patients pregnant or lactating', 'Condition 238 245--*--allergy', 'Condition 249 260--*--intolerance', 'Drug 275 280--*--drugs', 'Scope 238 260--*--allergy or intolerance', 'Condition 309 329--*--cognitive impairment', 'Qualifier 302 308--*--severe', 'Procedure 346 379--*--intrathecal injectio radiculalgia', 'Condition 420 441--*--psychiatric pathology', 'Qualifier 414 419--*--major', 'Qualifier 396 413--*--poorly controlled', 'Condition 458 473--*--type I diabetes', 'Condition 495 511--*--type II diabetes', 'Qualifier 477 494--*--poorly controlled', 'Measurement 513 518--*--Hb1Ac', 'Value 518 522--*-->8.5', 'Condition 540 548--*--glaucoma', 'Condition 565 587--*--caudal equine syndrome', 'Procedure 623 641--*--steroid injections', 'Procedure 645 662--*--local anesthetics', 'Condition 679 701--*--central canal stenosis', 'Drug 741 761--*--oral corticosteroids']}, {'Text': 'Patients scheduled for thyroidectomy with general anesthesia in the University of Chile Clinical Hospital. ', 'Annotations': ['Mood 9 22--*--scheduled for', 'Procedure 23 36--*--thyroidectomy', 'Procedure 42 60--*--general anesthesia', 'Visit 68 104--*--University of Chile Clinical Hospita']}, {'Text': 'Patients older than 18 years. Ischemic symptoms or evidence of myocardial ischemia (inducible or spontaneous) in the presence of >50% de novo stenosis located in native coronary vessels. ', 'Annotations': ['Person 23 28--*--years', 'Value 9 22--*--older than 18', 'Condition 30 47--*--Ischemic symptoms', 'Mood 51 59--*--evidence', 'Condition 63 82--*--myocardial ischemia', 'Qualifier 84 93--*--inducible', 'Qualifier 97 108--*--spontaneous', 'Scope 84 108--*--inducible or spontaneous', 'Value 129 133--*-->50%', 'Qualifier 134 141--*--de novo', 'Measurement 142 150--*--stenosis', 'Condition 142 150--*--stenosis', 'Qualifier 162 185--*--native coronary vessels']}, {'Text': 'major elective gastrointestinal, gynecological, prostate or bladder surgery patients who are = 60 years old.. the surgery is laparoscopic surgery and is expected to last for = 2 hours under general anesthesia and the patient will stay in hospital for at least 7 days after surgery.. lack of serious hearing and vision impairment and be able to read so that neurobehavioral tests can be performed.. ', 'Annotations': ['Qualifier 6 14--*--elective', 'Procedure 60 75--*--bladder surgery', 'Scope 15 75--*--gastrointestinal, gynecological, prostate or bladder surgery', 'Value 93 107--*--= 60 years old', 'Person 104 107--*--old', 'Procedure 125 145--*--laparoscopic surgery', 'Measurement 165 169--*--last', 'Value 174 182--*--= 2 hour', 'Mood 153 161--*--expected', 'Qualifier 184 208--*--under general anesthesia', 'Mood 225 229--*--will', 'Procedure 230 246--*--stay in hospital', 'Value 251 280--*--at least 7 days after surgery', 'Negation 283 290--*--lack of', 'Condition 311 328--*--vision impairment', 'Scope 299 328--*--hearing and vision impairment', 'Condition 336 348--*--able to read', 'Procedure 357 378--*--neurobehavioral tests', 'Mood 379 395--*--can be performed']}, {'Text': 'South Australian secondary school students in years 10, 11, and 12 in 2017. Written parental consent for those under the age of 18. Written student consent assent for those under the age of 18 (or if 18 years old and older consent for themselves). Available at school for at least the first pharyngeal swab and willing to comply with study procedures. ', 'Annotations': ['Observation 17 42--*--secondary school students', 'Qualifier 46 54--*--years 10', 'Temporal 67 74--*--in 2017', 'Scope 46 66--*--years 10, 11, and 12', 'Visit 0 16--*--South Australian', 'Informed_consent 76 130--*--Written parental consent for those under the age of 18', 'Informed_consent 132 246--*--Written student consent assent for those under the age of 18 (or if 18 years old and older consent for themselves)', 'Multiplier 285 290--*--first', 'Procedure 291 306--*--pharyngeal swab', 'Mood 311 321--*--willing to', 'Observation 322 350--*--comply with study procedures']}, {'Text': 'Non-ST segement elevation acute coronary syndrome. ', 'Annotations': ['Condition 0 25--*--Non-ST segement elevation', 'Condition 26 49--*--acute coronary syndrome']}, {'Text': 'Type 2 diabetes mellitus with HbA1c > 7.5 %. Body mass index > 35 and < 50 kg/m2. Candidate for Gastric By-Pass. Treatment with GLP1 (glucagon-like peptide) analogue or insulin. ', 'Annotations': ['Condition 0 24--*--Type 2 diabetes mellitus', 'Measurement 30 35--*--HbA1c', 'Value 36 43--*--> 7.5 %', 'Measurement 45 60--*--Body mass index', 'Value 61 80--*--> 35 and < 50 kg/m2', 'Procedure 96 111--*--Gastric By-Pass', 'Mood 82 91--*--Candidate', 'Drug 128 165--*--GLP1 (glucagon-like peptide) analogue', 'Drug 169 176--*--insulin', 'Procedure 113 122--*--Treatment', 'Scope 128 176--*--GLP1 (glucagon-like peptide) analogue or insulin']}, {'Text': 'All patients admitted at the Gynecological emergency Unit at Hospital de Clínicas de Porto Alegre scheduled for uterine evacuation with <12 weeks of gestation.. ', 'Annotations': ['Visit 29 97--*--Gynecological emergency Unit at Hospital de Clínicas de Porto Alegre', 'Procedure 112 130--*--uterine evacuation', 'Condition 149 158--*--gestation', 'Multiplier 136 145--*--<12 weeks']}, {'Text': '1. Need for combined organ transplantation with an extra-renal organ and/or islet cell transplant. . 2. Recipients of previous non-renal solid organ and/or islet cell transplantation. . 3. Infection with HIV. . 4. Inability or unwillingness of a participant and/or guardian to provide informed consent       .     . ', 'Annotations': ['Procedure 12 42--*--combined organ transplantation', 'Qualifier 51 68--*--extra-renal organ', 'Procedure 76 97--*--islet cell transplant', 'Scope 51 97--*--extra-renal organ and/or islet cell transplant', 'Procedure 155 181--*--islet cell transplantation', 'Temporal 117 125--*--previous', 'Scope 126 181--*--non-renal solid organ and/or islet cell transplantation', 'Condition 187 205--*--Infection with HIV', 'Non-query-able 211 298--*--Inability or unwillingness of a participant and/or guardian to provide informed consent', 'Post-eligibility 211 298--*--Inability or unwillingness of a participant and/or guardian to provide informed consent']}, {'Text': 'Previous exposure to drugs such as fingolimod, natalizumab, alemtuzumab, mitoxantrone and ocrelizumab.. Positive hepatitis C or hepatitis B surface antigen test and/or hepatits B core antibody test for immunoglobulin G (IgG) and/or immunoglobulin M (IgM).. Current or previous history of immune deficiency disorders including a positive human immunodeficiency virus (HIV) result.. Currently receiving immunosuppressive or myelosuppressive therapy with, for example, monoclonal antibodies, methotrexate, cyclophosphamide, cyclosporine or azathioprine, or chronic use of corticosteroids.. History of tuberculosis , presence of active tuberculosis, or latent tuberculosis. Evidence or suspect of Progressive Multifocal Leukoencephalopathy (PML) in Magnetic Resonance Imaging (MRI).. Active malignancy or history of malignancy.. Other protocol defined exclusion criteria could apply.. ', 'Annotations': ['Temporal 0 8--*--Previous', 'Drug 21 26--*--drugs', 'Drug 35 45--*--fingolimod', 'Drug 47 58--*--natalizumab', 'Drug 60 71--*--alemtuzumab', 'Drug 73 85--*--mitoxantrone', 'Drug 90 101--*--ocrelizumab', 'Scope 35 101--*--fingolimod, natalizumab, alemtuzumab, mitoxantrone and ocrelizumab', 'Value 104 112--*--Positive', 'Measurement 128 160--*--hepatitis B surface antigen test', 'Measurement 168 197--*--hepatits B core antibody test', 'Qualifier 202 224--*--immunoglobulin G (IgG)', 'Qualifier 232 254--*--immunoglobulin M (IgM)', 'Scope 202 254--*--immunoglobulin G (IgG) and/or immunoglobulin M (IgM)', 'Scope 113 254--*--hepatitis C or hepatitis B surface antigen test and/or hepatits B core antibody test for immunoglobulin G (IgG) and/or immunoglobulin M (IgM)', 'Temporal 257 264--*--Current', 'Temporal 268 284--*--previous history', 'Condition 288 315--*--immune deficiency disorders', 'Measurement 337 371--*--human immunodeficiency virus (HIV)', 'Value 328 336--*--positive', 'Scope 257 284--*--Current or previous history', 'Procedure 422 446--*--myelosuppressive therapy', 'Temporal 381 390--*--Currently', 'Drug 466 487--*--monoclonal antibodies', 'Drug 489 501--*--methotrexate', 'Drug 503 519--*--cyclophosphamide', 'Drug 521 533--*--cyclosporine', 'Drug 537 549--*--azathioprine', 'Drug 569 584--*--corticosteroids', 'Multiplier 554 565--*--chronic use', 'Scope 466 584--*--monoclonal antibodies, methotrexate, cyclophosphamide, cyclosporine or azathioprine, or chronic use of corticosteroids', 'Scope 401 446--*--immunosuppressive or myelosuppressive therapy', 'Procedure 598 610--*--tuberculosis', 'Procedure 632 644--*--tuberculosis', 'Procedure 656 668--*--tuberculosis', 'Qualifier 649 655--*--latent', 'Qualifier 625 631--*--active', 'Observation 587 594--*--History', 'Condition 693 741--*--Progressive Multifocal Leukoencephalopathy (PML)', 'Procedure 745 777--*--Magnetic Resonance Imaging (MRI)', 'Mood 670 678--*--Evidence', 'Mood 682 689--*--suspect', 'Scope 670 689--*--Evidence or suspect', 'Observation 801 808--*--history', 'Condition 812 822--*--malignancy', 'Condition 787 797--*--malignancy', 'Qualifier 780 786--*--Active', 'Non-representable 825 879--*--Other protocol defined exclusion criteria could apply.']}, {'Text': 'Adult men and women> 18 years old. Presence of sustained ventricular tachycardia with HR> 120 bpm. Systolic blood pressure> 90 mmHg. No signs of poor peripheral perfusion. Absence of dyspnea. Absence of severe angina. Signed consent form. ', 'Annotations': ['Person 0 5--*--Adult', 'Person 6 9--*--men', 'Person 14 19--*--women', 'Value 19 33--*--> 18 years old', 'Person 30 33--*--old', 'Qualifier 47 56--*--sustained', 'Condition 57 80--*--ventricular tachycardia', 'Measurement 86 88--*--HR', 'Value 88 97--*--> 120 bpm', 'Measurement 99 122--*--Systolic blood pressure', 'Value 122 131--*--> 90 mmHg', 'Negation 133 135--*--No', 'Mood 136 144--*--signs of', 'Condition 145 170--*--poor peripheral perfusion', 'Condition 183 190--*--dyspnea', 'Negation 172 182--*--Absence of', 'Negation 192 202--*--Absence of', 'Condition 210 216--*--angina', 'Qualifier 203 209--*--severe', 'Informed_consent 218 237--*--Signed consent form']}, {'Text': 'Patients undergoing elective abdominal surgery with an expected blood loss of = 500 ml. ASA Physical Status II - III. Signed written informed consent form. Body weight = 140 kg. Sepsis. Burns. Renal impairment (AKIN stage = 1) or acute and/or chronic renal replacement therapy. Intracranial or cerebral haemorrhage. Critically ill patients (typically admitted to the intensive care unit). Hyperhydration. Pulmonary oedema. Dehydration. Hyperkalaemia. Severe hypernatraemia. Severe hyperchloraemia. Severely impaired hepatic function. Congestive heart failure. Severe coagulopathy. Organ transplant patients. Metabolic alkalosis. Simultaneous participation in another interventional clinical trial (drugs or medical devices studies). ', 'Annotations': ['Qualifier 20 28--*--elective', 'Procedure 29 46--*--abdominal surgery', 'Measurement 55 74--*--expected blood loss', 'Value 78 86--*--= 500 ml', 'Measurement 88 107--*--ASA Physical Status', 'Value 108 116--*--II - III', 'Informed_consent 118 154--*--Signed written informed consent form', 'Measurement 156 167--*--Body weight', 'Value 168 176--*--= 140 kg', 'Condition 178 184--*--Sepsis', 'Condition 186 191--*--Burns', 'Condition 193 209--*--Renal impairment', 'Measurement 211 221--*--AKIN stage', 'Value 222 225--*--= 1', 'Qualifier 230 235--*--acute', 'Qualifier 243 250--*--chronic', 'Procedure 251 276--*--renal replacement therapy', 'Scope 230 250--*--acute and/or chronic', 'Condition 294 314--*--cerebral haemorrhage', 'Condition 316 330--*--Critically ill', 'Visit 367 386--*--intensive care unit', 'Mood 341 350--*--typically', 'Procedure 351 359--*--admitted', 'Condition 389 403--*--Hyperhydration', 'Condition 405 421--*--Pulmonary oedema', 'Condition 423 434--*--Dehydration', 'Condition 436 449--*--Hyperkalaemia', 'Condition 458 472--*--hypernatraemia', 'Qualifier 451 457--*--Severe', 'Condition 481 496--*--hyperchloraemia', 'Qualifier 474 480--*--Severe', 'Condition 507 532--*--impaired hepatic function', 'Qualifier 498 506--*--Severely', 'Condition 534 558--*--Congestive heart failure', 'Condition 567 579--*--coagulopathy', 'Qualifier 560 566--*--Severe', 'Procedure 581 597--*--Organ transplant', 'Condition 608 627--*--Metabolic alkalosis', 'Competing_trial 629 731--*--Simultaneous participation in another interventional clinical trial (drugs or medical devices studies)']}, {'Text': 'Target lesion located in the left main stem. STEMI. Restenosis. Cardiogenic shock. Malignancies or other comorbid conditions with life expectancy less than 12 months or that may result in protocol noncompliance. Known allergy to the study medications (probucol, sirolimus, zotarolimus). Pregnancy (present, suspected, or planned). ', 'Annotations': ['Condition 0 13--*--Target lesion', 'Qualifier 29 43--*--left main stem', 'Condition 45 50--*--STEMI', 'Condition 52 62--*--Restenosis', 'Condition 64 81--*--Cardiogenic shock', 'Condition 83 95--*--Malignancies', 'Condition 105 124--*--comorbid conditions', 'Qualifier 99 104--*--other', 'Observation 130 145--*--life expectancy', 'Value 146 165--*--less than 12 months', 'Observation 188 210--*--protocol noncompliance', 'Mood 174 177--*--may', 'Scope 130 210--*--life expectancy less than 12 months or that may result in protocol noncompliance', 'Scope 83 124--*--Malignancies or other comorbid conditions', 'Condition 218 225--*--allergy', 'Drug 233 250--*--study medications', 'Drug 252 260--*--probucol', 'Drug 262 271--*--sirolimus', 'Drug 273 284--*--zotarolimus', 'Scope 252 284--*--probucol, sirolimus, zotarolimus', 'Condition 287 296--*--Pregnancy', 'Temporal 298 305--*--present', 'Mood 307 316--*--suspected', 'Mood 321 328--*--planned', 'Scope 298 328--*--present, suspected, or planned']}, {'Text': 'Patients ASA III y IV. Chronic pain history. Drug and alcohol abuse. Chronic use of opioid and sedatives. Neuropsychiatric illness. NSAID and other analgesics used the 48 hours previous to the surgery. CMI > 30. ', 'Annotations': ['Measurement 9 12--*--ASA', 'Value 13 21--*--III y IV', 'Condition 23 35--*--Chronic pain', 'Condition 54 67--*--alcohol abuse', 'Drug 84 90--*--opioid', 'Drug 95 104--*--sedatives', 'Multiplier 69 80--*--Chronic use', 'Scope 84 104--*--opioid and sedatives', 'Condition 106 130--*--Neuropsychiatric illness', 'Drug 132 137--*--NSAID', 'Qualifier 142 147--*--other', 'Drug 148 158--*--analgesics', 'Temporal 168 200--*--48 hours previous to the surgery', 'Reference_point 189 200--*--the surgery', 'Scope 132 158--*--NSAID and other analgesics', 'Measurement 202 205--*--CMI', 'Value 206 209--*--> 3']}, {'Text': 'Previous anaphylaxis following any component of Bexsero vaccine. Previous receipt of meningococcal B vaccine (Bexsero). Known pregnancy. ', 'Annotations': ['Condition 9 20--*--anaphylaxis', 'Temporal 0 8--*--Previous', 'Drug 48 63--*--Bexsero vaccine', 'Temporal 65 73--*--Previous', 'Drug 85 108--*--meningococcal B vaccine', 'Drug 110 117--*--Bexsero', 'Condition 126 135--*--pregnancy']}, {'Text': 'Left main disease. Known hypersensitivity or contraindication to any of the following medications: Heparin, aspirin, clopidogrel, sirolimus, siptagliptin and statin. Congestive heart failure (patients with LVEF <30% or cardiogenic shock). Uncontrolled myocardial ischemia (repeated chest pain or dyspnea after revascularization). Uncontrolled ventricular arrhythmia. History of malignancy with chemotherapy. Serious hematologic disease (e.g. CML, MDS). Current infectious disease needs antibiotics therapy. Creatinine level >1.5 mg/dL or dependence on dialysis. Other severe concurrent illness (e.g. active infection, malignancy).. Life expectancy of less than one year. Pregnancy or women with potential childbearing. Type I DM. Treatment with insulin. History of pancreatitis. Who cannot read the informed consent form (e.g. illiteracy, foreigner). ', 'Annotations': ['Condition 0 17--*--Left main disease', 'Condition 25 41--*--hypersensitivity', 'Condition 45 61--*--contraindication', 'Drug 99 106--*--Heparin', 'Drug 108 115--*--aspirin', 'Drug 117 128--*--clopidogrel', 'Drug 130 139--*--sirolimus', 'Drug 141 153--*--siptagliptin', 'Drug 158 164--*--statin', 'Scope 99 164--*--Heparin, aspirin, clopidogrel, sirolimus, siptagliptin and statin', 'Scope 25 61--*--hypersensitivity or contraindication', 'Condition 166 190--*--Congestive heart failure', 'Measurement 206 210--*--LVEF', 'Value 211 215--*--<30%', 'Condition 219 236--*--cardiogenic shock', 'Scope 207 236--*--VEF <30% or cardiogenic shock', 'Condition 252 271--*--myocardial ischemia', 'Qualifier 239 251--*--Uncontrolled', 'Condition 282 292--*--chest pain', 'Qualifier 273 281--*--repeated', 'Condition 296 303--*--dyspnea', 'Temporal 304 327--*--after revascularization', 'Reference_point 310 327--*--revascularization', 'Procedure 310 327--*--revascularization', 'Scope 282 303--*--chest pain or dyspnea', 'Condition 343 365--*--ventricular arrhythmia', 'Qualifier 330 342--*--Uncontrolled', 'Condition 378 388--*--malignancy', 'Procedure 394 406--*--chemotherapy', 'Condition 416 435--*--hematologic disease', 'Qualifier 408 415--*--Serious', 'Condition 442 445--*--CML', 'Condition 447 450--*--MDS', 'Scope 442 450--*--CML, MDS', 'Condition 461 479--*--infectious disease', 'Drug 486 497--*--antibiotics', 'Measurement 507 523--*--Creatinine level', 'Value 524 534--*-->1.5 mg/dL', 'Procedure 552 560--*--dialysis', 'Condition 600 616--*--active infection', 'Condition 618 628--*--malignancy', 'Condition 586 593--*--illness', 'Qualifier 575 585--*--concurrent', 'Qualifier 568 574--*--severe', 'Scope 600 628--*--active infection, malignancy', 'Observation 633 647--*--ife expectancy', 'Value 651 669--*--less than one year', 'Pregnancy_considerations 671 717--*--Pregnancy or women with potential childbearing', 'Condition 719 728--*--Type I DM', 'Drug 745 752--*--insulin', 'Condition 765 777--*--pancreatitis', 'Informed_consent 779 849--*--Who cannot read the informed consent form (e.g. illiteracy, foreigner)']}, {'Text': 'Patients are not expected to be alive for longer than 3 months.. Mini-mental State Examination (MMSE) [18] score = 23.. history of dementia, psychiatric illness or any diseases of central nervous system.. current use of sedatives or antidepressant.. alcoholism and drug dependence.. patients previously included in this study (for patients who have second intra-abdominal surgery during the study period).. difficult to follow up or patients with poor compliance.. uncontrolled hypertension (> 180/100 mmHg). ', 'Annotations': ['Observation 17 37--*--expected to be alive', 'Negation 13 16--*--not', 'Value 42 62--*--longer than 3 months', 'Measurement 65 101--*--Mini-mental State Examination (MMSE)', 'Value 113 117--*--= 23', 'Condition 131 139--*--dementia', 'Condition 141 160--*--psychiatric illness', 'Condition 168 202--*--diseases of central nervous system', 'Drug 220 229--*--sedatives', 'Temporal 205 212--*--current', 'Drug 233 247--*--antidepressant', 'Scope 220 247--*--sedatives or antidepressant', 'Condition 250 260--*--alcoholism', 'Condition 265 280--*--drug dependence', 'Non-query-able 283 405--*--patients previously included in this study (for patients who have second intra-abdominal surgery during the study period).', 'Non-query-able 407 463--*--difficult to follow up or patients with poor compliance.', 'Condition 465 490--*--uncontrolled hypertension', 'Value 492 506--*--> 180/100 mmHg']}, {'Text': 'Contraindication to bariatric surgery. Pregnancy. Affiliation of health care assurance. Psychiatric disorders. ', 'Annotations': ['Procedure 20 37--*--bariatric surgery', 'Condition 0 16--*--Contraindication', 'Condition 39 48--*--Pregnancy', 'Observation 50 86--*--Affiliation of health care assurance', 'Condition 88 109--*--Psychiatric disorders']}, {'Text': 'Pregnancy. Hemodynamic instability. Body mass index greater than 40 kg / m2. Use of intravenous amiodarone or lidocaine in the last 24 hours. Acute coronary syndrome. Presence of tachycardia with irregular or supraventricular RR. Contraindications to study drugs. ', 'Annotations': ['Condition 0 9--*--Pregnancy', 'Condition 11 34--*--Hemodynamic instability', 'Measurement 36 51--*--Body mass index', 'Value 52 75--*--greater than 40 kg / m2', 'Qualifier 84 95--*--intravenous', 'Drug 96 106--*--amiodarone', 'Drug 110 119--*--lidocaine', 'Temporal 120 140--*--in the last 24 hours', 'Scope 96 119--*--amiodarone or lidocaine', 'Condition 142 165--*--Acute coronary syndrome', 'Condition 179 190--*--tachycardia', 'Condition 209 228--*--supraventricular RR', 'Condition 230 247--*--Contraindications', 'Drug 251 262--*--study drugs']}, {'Text': 'Highly active RMS as defined by:. One relapse in the previous year and at least 1 T1 Gadolinium (Gd)+ lesion or 9 or more T2 lesions, while on therapy with other disease modifying drugs (DMDs). Two or more relapses in the previous year, whether on DMD treatment or not.. Expanded Disability Status Scale (EDSS) score less than equals to (<=) 5.0.. Other protocol defined inclusion criteria could apply.. ', 'Annotations': ['Qualifier 0 13--*--Highly active', 'Condition 14 17--*--RMS', 'Non-representable 18 32--*--as defined by:', 'Multiplier 34 37--*--One', 'Condition 38 45--*--relapse', 'Temporal 46 66--*--in the previous year', 'Multiplier 71 81--*--at least 1', 'Condition 102 108--*--lesion', 'Qualifier 82 101--*--T1 Gadolinium (Gd)+', 'Multiplier 112 121--*--9 or more', 'Condition 122 132--*--T2 lesions', 'Temporal 134 150--*--while on therapy', 'Reference_point 143 150--*--therapy', 'Procedure 143 150--*--therapy', 'Drug 162 192--*--disease modifying drugs (DMDs)', 'Qualifier 156 161--*--other', 'Scope 34 132--*--One relapse in the previous year and at least 1 T1 Gadolinium (Gd)+ lesion or 9 or more T2 lesions', 'Multiplier 194 205--*--Two or more', 'Condition 206 214--*--relapses', 'Temporal 215 235--*--in the previous year', 'Measurement 271 316--*--Expanded Disability Status Scale (EDSS) score', 'Value 317 345--*--less than equals to (<=) 5.0', 'Post-eligibility 348 402--*--Other protocol defined inclusion criteria could apply.']}, {'Text': '1. Male and female recipients of all races, ≥18 years of age. . 2. Patients undergoing primary or subsequent deceased-donor or living donor kidney transplantation. . 3. Subject and/or guardian must be able to provide informed consent. . 4. Subject and/or guardian must be able to comply with the study protocol. . ', 'Annotations': ['Person 3 7--*--Male', 'Person 12 18--*--female', 'Value 44 53--*--≥18 years', 'Person 57 60--*--age', 'Multiplier 86 93--*--primary', 'Multiplier 97 107--*--subsequent', 'Procedure 126 161--*--living donor kidney transplantation', 'Scope 108 161--*--deceased-donor or living donor kidney transplantation', 'Scope 86 107--*--primary or subsequent', 'Non-query-able 167 232--*--Subject and/or guardian must be able to provide informed consent.', 'Post-eligibility 167 232--*--Subject and/or guardian must be able to provide informed consent.', 'Non-query-able 237 308--*--Subject and/or guardian must be able to comply with the study protocol.', 'Post-eligibility 237 308--*--Subject and/or guardian must be able to comply with the study protocol.']}, {'Text': 'patients who do not wish to participate in the project;. patients with ectopic pregnancy;. patients with comorbidities (heart failure congestive, chronic obstructive pulmonary disease);. patients with hypovolemic shock;. patients with cervical incompetence;. patients with infected miscarriage/abortion (presence of fever, pus from the cervix, leukocytosis [> 14000]);. patients with twin pregnancy;. patients with Marfan syndrome;. patients allergic to misoprostol;. patients with coagulopathy;. patients with opening of cervical internal os (4 mm of dilatation at the time of consultation);. patients with previous surgery of the cervix (conization);. patients with concomitant use of IUDs.. ', 'Annotations': ['Post-eligibility 0 54--*--patients who do not wish to participate in the project', 'Condition 71 88--*--ectopic pregnancy', 'Condition 105 118--*--comorbidities', 'Condition 120 144--*--heart failure congestive', 'Condition 146 183--*--chronic obstructive pulmonary disease', 'Scope 120 183--*--heart failure congestive, chronic obstructive pulmonary disease', 'Condition 201 218--*--hypovolemic shock', 'Condition 235 256--*--cervical incompetence', 'Qualifier 273 281--*--infected', 'Condition 294 302--*--abortion', 'Condition 282 293--*--miscarriage', 'Scope 282 302--*--miscarriage/abortion', 'Condition 316 321--*--fever', 'Condition 323 342--*--pus from the cervix', 'Measurement 344 356--*--leukocytosis', 'Temporal 358 365--*--> 14000', 'Scope 316 366--*--fever, pus from the cervix, leukocytosis [> 14000]', 'Qualifier 384 388--*--twin', 'Condition 389 398--*--pregnancy', 'Condition 415 430--*--Marfan syndrome', 'Condition 442 450--*--allergic', 'Drug 454 465--*--misoprostol', 'Condition 482 494--*--coagulopathy', 'Observation 511 542--*--opening of cervical internal os', 'Value 544 562--*--4 mm of dilatation', 'Procedure 617 624--*--surgery', 'Qualifier 632 638--*--cervix', 'Procedure 640 650--*--conization', 'Drug 687 691--*--IUDs']}, {'Text': 'Multiple pregnancy. Prior spontaneous preterm birth or second trimester losses between 16(0) and 36(6) weeks. Cerclage in situ. Painful regular uterine contraction and/or preterm labor. Ruptured membranes. Major fetal defects. Active vaginal bleeding. Placenda previa and/or accreta. Cervical dilation >1.5 cm and/or visible membranes by pelvic exam. Suspicion of chorioamnionitis. ', 'Annotations': ['Condition 0 18--*--Multiple pregnancy', 'Temporal 20 25--*--Prior', 'Condition 26 51--*--spontaneous preterm birth', 'Condition 72 78--*--losses', 'Qualifier 79 108--*--between 16(0) and 36(6) weeks', 'Qualifier 55 71--*--second trimester', 'Scope 26 108--*--spontaneous preterm birth or second trimester losses between 16(0) and 36(6) weeks', 'Condition 110 126--*--Cerclage in situ', 'Condition 128 163--*--Painful regular uterine contraction', 'Condition 171 184--*--preterm labor', 'Condition 186 204--*--Ruptured membranes', 'Condition 206 225--*--Major fetal defects', 'Condition 227 250--*--Active vaginal bleeding', 'Condition 252 267--*--Placenda previa', 'Condition 275 282--*--accreta', 'Measurement 284 301--*--Cervical dilation', 'Value 302 309--*-->1.5 cm', 'Condition 317 334--*--visible membranes', 'Procedure 338 349--*--pelvic exam', 'Mood 351 363--*--Suspicion of', 'Condition 364 380--*--chorioamnionitis']}, {'Text': 'Physically healthy adults age 18-55 who meet DSM-5 criteria for insomnia and Criterion A (exposure to a traumatic event) for PTSD. The index trauma must have occurred within the past 5 years and at least 3 months before enrolling, and insomnia symptoms must have started or worsened after the exposure to the index trauma. ', 'Annotations': ['Qualifier 11 18--*--healthy', 'Person 19 25--*--adults', 'Person 26 29--*--age', 'Value 30 35--*--18-55', 'Condition 64 72--*--insomnia', 'Qualifier 45 50--*--DSM-5', 'Condition 125 129--*--PTSD', 'Qualifier 77 88--*--Criterion A', 'Condition 141 147--*--trauma', 'Qualifier 135 140--*--index', 'Temporal 174 212--*--the past 5 years and at least 3 months', 'Non-query-able 231 321--*--and insomnia symptoms must have started or worsened after the exposure to the index trauma']}, {'Text': 'Male and female Active-duty SMs or Veterans aged 18 or older who are in good general health.. History of blast and/or impact head trauma mTBI meeting Defense and Veterans Brain Injury Center (DVBIC) mTBI criteria, which define mTBI as an injury to the head causing at least one of the following: alteration in consciousness (for up to 24 hours after the injury), loss of consciousness 0-30 minutes, and/or post-traumatic amnesia up to 1 day post-injury. If available, the Glasgow Coma Scale score must be 13-15, and head imaging findings (if imaging was performed) must be negative.. Frequent HAs that started within 3months after a head injury. The HAs either 1) must last 4 or more hours a day and reach a moderate to severe intensity at any point during the headache, or 2) may be of any severity or duration if the participant takes a triptan or ergotamine. HAs meeting these criteria must have been present on average at least 8 days per 4-week period, starting within 30 days after head injury and occurring by self-report for at least 3 months prior to the Initial Screening Visit. The 4-week HA frequency/severity criteria must be confirmed during the Preliminary Screening Period.. Women of childbearing potential must agree to abstain from sexual relations that could result in pregnancy or use an effective method of birth control acceptable to both participant and the clinician prescriber during the study. Men are not required to use contraception during the study.. Participants must have English fluency sufficient to complete study measures.. ', 'Annotations': ['Person 0 4--*--Male', 'Person 9 15--*--female', 'Person 16 31--*--Active-duty SMs', 'Person 35 43--*--Veterans', 'Value 49 60--*--18 or older', 'Person 44 48--*--aged', 'Condition 72 91--*--good general health', 'Observation 105 110--*--blast', 'Observation 94 104--*--History of', 'Condition 118 136--*--impact head trauma', 'Measurement 150 212--*--Defense and Veterans Brain Injury Center (DVBIC) mTBI criteria', 'Value 142 149--*--meeting', 'Condition 296 323--*--alteration in consciousness', 'Temporal 325 360--*--for up to 24 hours after the injury', 'Reference_point 350 360--*--the injury', 'Condition 363 384--*--loss of consciousness', 'Temporal 385 397--*--0-30 minutes', 'Condition 406 428--*--post-traumatic amnesia', 'Temporal 429 452--*--up to 1 day post-injury', 'Measurement 472 490--*--Glasgow Coma Scale', 'Value 505 510--*--13-15', 'Procedure 516 528--*--head imaging', 'Condition 529 537--*--findings', 'Negation 573 581--*--negative', 'Scope 296 452--*--alteration in consciousness (for up to 24 hours after the injury), loss of consciousness 0-30 minutes, and/or post-traumatic amnesia up to 1 day post-injury', 'Condition 593 596--*--HAs', 'Qualifier 584 592--*--Frequent', 'Temporal 610 644--*--within 3months after a head injury', 'Reference_point 631 644--*--a head injury', 'Condition 650 653--*--HAs', 'Multiplier 669 695--*--last 4 or more hours a day', 'Qualifier 708 736--*--moderate to severe intensity', 'Drug 839 846--*--triptan', 'Drug 850 860--*--ergotamine', 'Multiplier 923 956--*--at least 8 days per 4-week period', 'Temporal 967 999--*--within 30 days after head injury', 'Temporal 1033 1087--*--at least 3 months prior to the Initial Screening Visit', 'Reference_point 1060 1087--*--the Initial Screening Visit', 'Scope 669 736--*--last 4 or more hours a day and reach a moderate to severe intensity', 'Scope 839 860--*--triptan or ergotamine', 'Scope 669 860--*--last 4 or more hours a day and reach a moderate to severe intensity at any point during the headache, or 2) may be of any severity or duration if the participant takes a triptan or ergotamine', 'Pregnancy_considerations 1191 1479--*--Women of childbearing potential must agree to abstain from sexual relations that could result in pregnancy or use an effective method of birth control acceptable to both participant and the clinician prescriber during the study. Men are not required to use contraception during the study.', 'Non-query-able 1482 1557--*--articipants must have English fluency sufficient to complete study measures']}, {'Text': 'Glaucoma,. Ocular allergy. Autoimmune disease. Contact lens-wear during study. Current punctal plugging. Pregnant/lactating. Candidate for topical anti-inflammatory. Cicatricial meibomian gland dysfunction. ', 'Annotations': ['Condition 0 8--*--Glaucoma', 'Condition 11 25--*--Ocular allergy', 'Condition 27 45--*--Autoimmune disease', 'Observation 47 64--*--Contact lens-wear', 'Temporal 65 77--*--during study', 'Temporal 79 86--*--Current', 'Condition 87 103--*--punctal plugging', 'Condition 105 113--*--Pregnant', 'Condition 114 123--*--lactating', 'Mood 125 138--*--Candidate for', 'Drug 139 164--*--topical anti-inflammatory', 'Qualifier 166 177--*--Cicatricial', 'Condition 178 205--*--meibomian gland dysfunction']}, {'Text': 'Age over 18 years. Patients with rectal cancer stage: cT1-2-3, cN0-1, cM0.. Tumor equal or below 10 cm from the anal verge, candidates to (ETM) low anterior resection and anastomosis, with or without preoperative chemo-radiotherapy.. Adenocarcinoma of low or moderate differentiation. ASA I, II, III.. ', 'Annotations': ['Person 0 3--*--Age', 'Value 4 17--*--over 18 years', 'Condition 33 46--*--rectal cancer', 'Qualifier 47 52--*--stage', 'Measurement 54 56--*--cT', 'Measurement 63 65--*--cN', 'Measurement 70 72--*--cM', 'Value 56 61--*--1-2-3', 'Value 65 68--*--0-1', 'Value 72 73--*--0', 'Scope 54 73--*--cT1-2-3, cN0-1, cM0', 'Qualifier 82 122--*--equal or below 10 cm from the anal verge', 'Mood 124 134--*--candidates', 'Procedure 144 166--*--low anterior resection', 'Scope 144 182--*--low anterior resection and anastomosis', 'Temporal 200 212--*--preoperative', 'Procedure 213 231--*--chemo-radiotherapy', 'Condition 76 81--*--Tumor', 'Condition 234 248--*--Adenocarcinoma', 'Qualifier 252 283--*--low or moderate differentiation', 'Measurement 285 288--*--ASA', 'Value 289 299--*--I, II, III']}]\n"
     ]
    }
   ],
   "source": [
    "# training from chia data\n",
    "from spacy.util import filter_spans\n",
    "\n",
    "test_data = []\n",
    "count = 0;\n",
    "\n",
    "for example in data1:\n",
    "    \n",
    "    \n",
    "\n",
    "    if \"Text\" not in data1[example] and \"Annotations\" not in data1[example]:\n",
    "        continue\n",
    "        \n",
    "    if (count<50 and len(data1[example][\"Annotations\"])>0):\n",
    "        test_data.append(data1[example])\n",
    "        count+=1\n",
    "        continue\n",
    "\n",
    "    temp_lst = []\n",
    "\n",
    "    text = data1[example][\"Text\"]\n",
    "    #   text = text.replace(\".\", \" \")\n",
    "#     text = text.strip()\n",
    "\n",
    "    if text == '.' or text == '' or text == ',' or text == ':':\n",
    "        continue;\n",
    "\n",
    "    labels = []\n",
    "    for entity in data1[example][\"Annotations\"]:\n",
    "        if (entity == None or len(entity) == 0):\n",
    "            continue\n",
    "        sp = entity.split('--*--')[0].split(' ');\n",
    "        start = sp[1]\n",
    "        end = sp[2]\n",
    "        label = sp[0]\n",
    "        expected_label = entity.split('--*--')[1]        \n",
    "        labels.append((start, end, label))\n",
    "\n",
    "\n",
    "    doc = nlp.make_doc(text)\n",
    "    ents = []\n",
    "\n",
    "    for start, end, label in labels:\n",
    "        if start.isdigit() and end.isdigit():\n",
    "            span = doc.char_span(int(start), int(end), label=label)\n",
    "            if span is not None and span.text is not None:\n",
    "                ents.append(span)\n",
    "    filtered_ents = filter_spans(ents)\n",
    "    doc.ents = filtered_ents\n",
    "    doc_bin.add(doc)\n",
    "\n",
    "doc_bin.to_disk(\"train.spacy\")\n"
   ]
  },
  {
   "cell_type": "code",
   "execution_count": 5,
   "metadata": {},
   "outputs": [],
   "source": [
    "# from spacy.util import filter_spans\n",
    "\n",
    "# training_data = []\n",
    "\n",
    "# for example in data1[\"data\"]:\n",
    "#   temp_lst = []\n",
    "\n",
    "#   text = example['entities'][0]['text']\n",
    "\n",
    "#   labels = []\n",
    "#   for entity in example['entities']:\n",
    "#     start = entity['indexes'].split(',')[0]\n",
    "#     end = entity['indexes'].split(',')[1]\n",
    "#     label = entity['label']\n",
    "#     labels.append((start, end, label))\n",
    "\n",
    "#   doc = nlp.make_doc(text)\n",
    "#   ents = []\n",
    "\n",
    "#   for start, end, label in labels:\n",
    "#     span = doc.char_span(int(start), int(end), label=label, alignment_mode=\"contract\")\n",
    "#     if span is None:\n",
    "#       print(\"Skipping entity\")\n",
    "#     else:\n",
    "#       ents.append(span)\n",
    "#   filtered_ents = filter_spans(ents)\n",
    "#   doc.ents = filtered_ents\n",
    "#   doc_bin.add(doc)\n",
    "\n",
    "# doc_bin.to_disk(\"train.spacy\")"
   ]
  },
  {
   "cell_type": "code",
   "execution_count": 24,
   "metadata": {
    "colab": {
     "base_uri": "https://localhost:8080/"
    },
    "executionInfo": {
     "elapsed": 10876,
     "status": "ok",
     "timestamp": 1700447258594,
     "user": {
      "displayName": "Tomas Esber",
      "userId": "06707006493259991549"
     },
     "user_tz": 300
    },
    "id": "AHixaxL00DMO",
    "outputId": "fb88c9a3-19c1-47a4-ab3e-43e1b2c36ed9"
   },
   "outputs": [
    {
     "name": "stdout",
     "output_type": "stream",
     "text": [
      "\u001b[38;5;2m✔ Auto-filled config with all values\u001b[0m\r\n",
      "\u001b[38;5;2m✔ Saved config\u001b[0m\r\n",
      "config.cfg\r\n",
      "You can now add your data and train your pipeline:\r\n",
      "python -m spacy train config.cfg --paths.train ./train.spacy --paths.dev ./dev.spacy\r\n"
     ]
    }
   ],
   "source": [
    "!python -m spacy init fill-config base_config.cfg config.cfg"
   ]
  },
  {
   "cell_type": "code",
   "execution_count": 25,
   "metadata": {
    "colab": {
     "base_uri": "https://localhost:8080/"
    },
    "executionInfo": {
     "elapsed": 30165,
     "status": "ok",
     "timestamp": 1700447291231,
     "user": {
      "displayName": "Tomas Esber",
      "userId": "06707006493259991549"
     },
     "user_tz": 300
    },
    "id": "eLjTkDdV0Oay",
    "outputId": "bccff261-34b7-4cd4-b9ef-1ea7d32ee6dd",
    "scrolled": true
   },
   "outputs": [
    {
     "name": "stdout",
     "output_type": "stream",
     "text": [
      "\u001b[38;5;4mℹ Saving to output directory: .\u001b[0m\n",
      "\u001b[38;5;4mℹ Using CPU\u001b[0m\n",
      "\u001b[1m\n",
      "=========================== Initializing pipeline ===========================\u001b[0m\n",
      "\u001b[38;5;2m✔ Initialized pipeline\u001b[0m\n",
      "\u001b[1m\n",
      "============================= Training pipeline =============================\u001b[0m\n",
      "\u001b[38;5;4mℹ Pipeline: ['tok2vec', 'ner']\u001b[0m\n",
      "\u001b[38;5;4mℹ Initial learn rate: 0.001\u001b[0m\n",
      "E    #       LOSS TOK2VEC  LOSS NER  ENTS_F  ENTS_P  ENTS_R  SCORE \n",
      "---  ------  ------------  --------  ------  ------  ------  ------\n",
      "  0       0          0.00     77.41    0.00    0.00    0.00    0.00\n",
      "  0     200       1188.28   8357.38   12.67   36.50    7.67    0.13\n",
      "  0     400       1645.19   8427.26   14.47   16.62   12.81    0.14\n",
      "  0     600        831.48   7351.95   20.04   41.80   13.18    0.20\n",
      "  0     800       3458.30   7953.56   31.40   47.59   23.43    0.31\n",
      "  0    1000       1079.01   8314.19   35.84   52.49   27.21    0.36\n",
      "  0    1200        894.21   8803.76   38.99   44.67   34.60    0.39\n",
      "^C\n"
     ]
    }
   ],
   "source": [
    "!python -m spacy train config.cfg --output ./ --paths.train ./train.spacy --paths.dev ./train.spacy"
   ]
  },
  {
   "cell_type": "code",
   "execution_count": 26,
   "metadata": {
    "executionInfo": {
     "elapsed": 2653,
     "status": "ok",
     "timestamp": 1700444553596,
     "user": {
      "displayName": "Tomas Esber",
      "userId": "06707006493259991549"
     },
     "user_tz": 300
    },
    "id": "w0yjvERW1e_1"
   },
   "outputs": [],
   "source": [
    "nlp_ner = spacy.load(\"model-best\")"
   ]
  },
  {
   "cell_type": "code",
   "execution_count": 66,
   "metadata": {},
   "outputs": [
    {
     "name": "stdout",
     "output_type": "stream",
     "text": [
      "Final score: 0.9 proportion of ideal patients identified correctly\n"
     ]
    }
   ],
   "source": [
    "# doc = nlp_ner(\"Severe cancer and Leukemia Group A. Cardiac MRI, and/or lung function tests (PFT) performed and reviewed by transplant center (for individuals with an ejection fraction and diffusing capacity [DLCO] of 40-50%, the appropriate cardiology or pulmonary consultations should be considered if the individual has severe heart or lung disease at the initiation of therapy) Sufficient number of umbilical cord blood units available for transplantation If male, willing to use contraception.\")\n",
    "# colors = {\"CONDITION\": \"#F67DE3\", \"QUALIFIER\": \"#7DF6D9\", \"PROCEDURE\":\"#a6e22d\"}\n",
    "# options = {\"colors\": colors}\n",
    "# spacy.displacy.render(doc, style=\"ent\", options= options, jupyter=True)\n",
    "# print(doc.ents)\n",
    "\n",
    "patient_data = []\n",
    "patientidx = 0\n",
    "for x in test_data:\n",
    "    text = x[\"Text\"]\n",
    "    entities = x[\"Annotations\"]\n",
    "    attributes = []\n",
    "    for entity in entities:\n",
    "        sp = entity.split('--*--')[0].split(' ');\n",
    "        start = sp[1]\n",
    "        end = sp[2]\n",
    "        label = sp[0]\n",
    "        expected_value = entity.split('--*--')[1]\n",
    "        attributes.append((label,expected_value))\n",
    "    patient_data.append(attributes)\n",
    "\n",
    "def generateScore(attributes,doc):\n",
    "    txtarr = []\n",
    "    score = 0\n",
    "    scoretotal = 0\n",
    "    for ent in doc.ents:\n",
    "        txtarr.append(ent.text)\n",
    "    for attribute in attributes:\n",
    "        score+=1\n",
    "        scoretotal+=1\n",
    "        label = attribute[0]\n",
    "        value = attribute[1]\n",
    "        if value not in txtarr:\n",
    "            score-=1\n",
    "    return score/scoretotal\n",
    "\n",
    "\n",
    "testidx = 0\n",
    "resultarr = []\n",
    "for test in test_data:\n",
    "    doc = nlp_ner(test[\"Text\"])\n",
    "    maxi = 0\n",
    "    matchidx = 1000\n",
    "    for i in range(len(patient_data)):\n",
    "        score = generateScore(patient_data[i],doc)\n",
    "        if (score>maxi):\n",
    "            matchidx = i\n",
    "            maxi = score\n",
    "    resultarr.append((testidx,matchidx))\n",
    "    testidx+=1\n",
    "    \n",
    "finalscore = len(resultarr)\n",
    "finaldenom = finalscore\n",
    "for val in resultarr:\n",
    "    if (val[0]!=val[1]):\n",
    "        finalscore-=1\n",
    "print(\"Final score: \" + str(finalscore/finaldenom) + \" proportion of ideal patients identified correctly\")\n",
    "\n",
    "            \n",
    "        \n",
    "    \n",
    "#     print(\"expected values: \")\n",
    "#     txtarr = []\n",
    "#     for ent in doc.ents:\n",
    "#         txtarr.append(ent.text)\n",
    "#     for entity in entities:\n",
    "#         score+=1\n",
    "#         finalscore+=1\n",
    "#         sp = entity.split('--*--')[0].split(' ');\n",
    "#         label = sp[0]\n",
    "#         expected_value = entity.split('--*--')[1]\n",
    "#         print(expected_value + \" should have label \" + label)\n",
    "#         if expected_value in txtarr:\n",
    "#             print(expected_value + \" correctly identified \")\n",
    "#         else:\n",
    "#             print(expected_value + \" not identified\")\n",
    "#             score-=1\n",
    "            \n",
    "#     print(\"actual identifications of model: \")\n",
    "#     for ent in doc.ents:\n",
    "#         print(ent.text + \" has label \" + ent.label_)\n",
    "\n",
    "# print(\"Final Score: \" + str(score/finalscore))\n",
    "        \n",
    "        \n",
    "   \n",
    "            \n",
    "\n",
    "    \n"
   ]
  },
  {
   "cell_type": "code",
   "execution_count": 61,
   "metadata": {},
   "outputs": [
    {
     "ename": "NameError",
     "evalue": "name 'Object' is not defined",
     "output_type": "error",
     "traceback": [
      "\u001b[0;31m---------------------------------------------------------------------------\u001b[0m",
      "\u001b[0;31mNameError\u001b[0m                                 Traceback (most recent call last)",
      "\u001b[0;32m/var/folders/kn/6mq55r597vz5mw1wfc2csf1r0000gn/T/ipykernel_4587/581179660.py\u001b[0m in \u001b[0;36m<module>\u001b[0;34m\u001b[0m\n\u001b[1;32m      5\u001b[0m \u001b[0manswers\u001b[0m \u001b[0;34m=\u001b[0m \u001b[0;34m[\u001b[0m\u001b[0;34m]\u001b[0m\u001b[0;34m\u001b[0m\u001b[0;34m\u001b[0m\u001b[0m\n\u001b[1;32m      6\u001b[0m \u001b[0mpatientidx\u001b[0m \u001b[0;34m=\u001b[0m \u001b[0;36m0\u001b[0m\u001b[0;34m\u001b[0m\u001b[0;34m\u001b[0m\u001b[0m\n\u001b[0;32m----> 7\u001b[0;31m \u001b[0;32mfor\u001b[0m \u001b[0mx\u001b[0m \u001b[0;32min\u001b[0m \u001b[0mObject\u001b[0m\u001b[0;34m.\u001b[0m\u001b[0mkeys\u001b[0m\u001b[0;34m(\u001b[0m\u001b[0mtest_data\u001b[0m\u001b[0;34m)\u001b[0m\u001b[0;34m:\u001b[0m\u001b[0;34m\u001b[0m\u001b[0;34m\u001b[0m\u001b[0m\n\u001b[0m\u001b[1;32m      8\u001b[0m     \u001b[0mtext\u001b[0m \u001b[0;34m=\u001b[0m \u001b[0mtest_data\u001b[0m\u001b[0;34m[\u001b[0m\u001b[0mx\u001b[0m\u001b[0;34m]\u001b[0m\u001b[0;34m[\u001b[0m\u001b[0;34m\"Text\"\u001b[0m\u001b[0;34m]\u001b[0m\u001b[0;34m\u001b[0m\u001b[0;34m\u001b[0m\u001b[0m\n\u001b[1;32m      9\u001b[0m     \u001b[0mentities\u001b[0m \u001b[0;34m=\u001b[0m \u001b[0mtest_data\u001b[0m\u001b[0;34m[\u001b[0m\u001b[0mx\u001b[0m\u001b[0;34m]\u001b[0m\u001b[0;34m[\u001b[0m\u001b[0;34m\"Annotations\"\u001b[0m\u001b[0;34m]\u001b[0m\u001b[0;34m\u001b[0m\u001b[0;34m\u001b[0m\u001b[0m\n",
      "\u001b[0;31mNameError\u001b[0m: name 'Object' is not defined"
     ]
    }
   ],
   "source": [
    "#Patient data to test\n",
    "\n",
    "\n",
    "\n",
    "\n",
    "        \n",
    "\n",
    "\n",
    "\n"
   ]
  },
  {
   "cell_type": "code",
   "execution_count": null,
   "metadata": {},
   "outputs": [],
   "source": []
  }
 ],
 "metadata": {
  "colab": {
   "authorship_tag": "ABX9TyMWvOUI5pgtGFl0tY1b5ltv",
   "provenance": []
  },
  "kernelspec": {
   "display_name": "Python 3 (ipykernel)",
   "language": "python",
   "name": "python3"
  },
  "language_info": {
   "codemirror_mode": {
    "name": "ipython",
    "version": 3
   },
   "file_extension": ".py",
   "mimetype": "text/x-python",
   "name": "python",
   "nbconvert_exporter": "python",
   "pygments_lexer": "ipython3",
   "version": "3.9.13"
  }
 },
 "nbformat": 4,
 "nbformat_minor": 1
}
